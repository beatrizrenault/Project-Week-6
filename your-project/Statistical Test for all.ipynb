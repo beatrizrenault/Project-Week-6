{
 "cells": [
  {
   "cell_type": "code",
   "execution_count": 1,
   "metadata": {},
   "outputs": [],
   "source": [
    "import numpy as np\n",
    "import pandas as pd\n",
    "import seaborn as sns\n",
    "from scipy.stats import ttest_1samp, ttest_rel, ttest_ind\n",
    "from scipy.stats import f_oneway\n",
    "import re\n",
    "import wordcloud\n",
    "import matplotlib.pyplot as plt"
   ]
  },
  {
   "cell_type": "code",
   "execution_count": 2,
   "metadata": {},
   "outputs": [],
   "source": [
    "#sexual ratio\n",
    "s_15 = pd.read_csv('count_2015.csv')\n",
    "s_19 = pd.read_csv('count_2019.csv')\n",
    "\n",
    "s_15['ratio sexual'] = s_15['Total_sexual_words']/s_15['Total_words']\n",
    "s_19['ratio sexual'] = s_19['Total_sexual_words']/s_19['Total_words']\n"
   ]
  },
  {
   "cell_type": "code",
   "execution_count": 3,
   "metadata": {},
   "outputs": [],
   "source": [
    "#pain ratio\n",
    "def sofrencia(df_col):\n",
    "    result = [re.findall(r'\\bsofr\\w+', word) for word in df_col]\n",
    "    return result\n",
    "\n",
    "def chorar(df_col):\n",
    "    result = [re.findall(r'\\bchor\\w+', word) for word in df_col]\n",
    "    return result\n",
    "\n",
    "s_15['list_sofrer'] = sofrencia(s_15['Lyrics'])\n",
    "s_15['list_chorar'] = chorar(s_15['Lyrics'])\n",
    "s_19['list_sofrer'] = sofrencia(s_19['Lyrics'])\n",
    "s_19['list_chorar'] = chorar(s_19['Lyrics'])\n",
    "\n",
    "s_15['count_sofrer'] = s_15['Lyrics'].str.count(r'\\bsofr\\w+')\n",
    "s_15['count_chorar'] = s_15['Lyrics'].str.count(r'\\bchor\\w+')\n",
    "s_19['count_sofrer'] = s_19['Lyrics'].str.count(r'\\bsofr\\w+')\n",
    "s_19['count_chorar'] = s_19['Lyrics'].str.count(r'\\bchor\\w+')\n",
    "\n",
    "s_19['Total_pain']  = s_19[['count_sofrer','count_chorar']].sum(axis = 1)\n",
    "s_15['Total_pain']  = s_15[['count_sofrer','count_chorar']].sum(axis = 1)\n",
    "\n",
    "s_19['ratio pain'] = s_19['Total_pain']/s_19['Total_words']\n",
    "s_15['ratio pain'] = s_15['Total_pain']/s_15['Total_words']\n"
   ]
  },
  {
   "cell_type": "code",
   "execution_count": 4,
   "metadata": {},
   "outputs": [],
   "source": [
    "#beer ratio\n",
    "\n",
    "def beber(df_col):\n",
    "    result = [re.findall(r'\\bbeb\\w+', word) for word in df_col]\n",
    "    return result\n",
    "\n",
    "s_15['list_beber'] = beber(s_15['Lyrics'])\n",
    "s_19['list_beber'] = beber(s_19['Lyrics'])\n",
    "\n",
    "s_15['list_cachaca'] = [re.findall('cachaça', word) for word in s_15['Lyrics']]\n",
    "s_19['list_cachaca'] = [re.findall('cachaça', word) for word in s_19['Lyrics']]\n",
    "s_15['list_cerveja'] = [re.findall('cerveja', word) for word in s_15['Lyrics']]\n",
    "s_19['list_cerveja'] = [re.findall('cerveja', word) for word in s_19['Lyrics']]\n",
    "s_15['list_bar'] = [re.findall('bar', word) for word in s_15['Lyrics']]\n",
    "s_19['list_bar'] = [re.findall('bar', word) for word in s_19['Lyrics']]\n",
    "s_15['list_boteco'] = [re.findall('boteco', word) for word in s_15['Lyrics']]\n",
    "s_19['list_boteco'] = [re.findall('boteco', word) for word in s_19['Lyrics']]\n",
    "\n",
    "s_19['count_beber'] = s_19['Lyrics'].str.count(r'\\bbeb\\w+')\n",
    "s_15['count_beber'] = s_15['Lyrics'].str.count(r'\\bbeb\\w+')\n",
    "\n",
    "s_15['count_cachaça'] = s_15['Lyrics'].str.count('cachaça')\n",
    "s_19['count_cachaça'] = s_19['Lyrics'].str.count('cachaça')\n",
    "s_15['count_cerveja'] = s_15['Lyrics'].str.count('cerveja')\n",
    "s_19['count_cerveja'] = s_19['Lyrics'].str.count('cerveja')\n",
    "s_15['count_bar'] = s_15['Lyrics'].str.count('bar')\n",
    "s_19['count_bar'] = s_19['Lyrics'].str.count('bar')\n",
    "s_15['count_boteco'] = s_15['Lyrics'].str.count('boteco')\n",
    "s_19['count_boteco'] = s_19['Lyrics'].str.count('boteco')\n",
    "\n",
    "s_19['Total_beer']  = s_19[['count_cachaça','count_cerveja','count_bar','count_boteco','count_beber']].sum(axis = 1)\n",
    "s_15['Total_beer']  = s_15[['count_cachaça','count_cerveja','count_bar','count_boteco','count_beber']].sum(axis = 1)\n",
    "\n",
    "s_19['ratio beer'] = s_19['Total_beer']/s_19['Total_words']\n",
    "s_15['ratio beer'] = s_15['Total_beer']/s_15['Total_words']\n"
   ]
  },
  {
   "cell_type": "code",
   "execution_count": 5,
   "metadata": {},
   "outputs": [],
   "source": [
    "s_15['list_paz'] = [re.findall('paz', word) for word in s_15['Lyrics']]\n",
    "s_19['list_paz'] = [re.findall('paz', word) for word in s_19['Lyrics']]\n",
    "s_15['list_anjo'] = [re.findall('anjo', word) for word in s_15['Lyrics']]\n",
    "s_19['list_anjo'] = [re.findall('anjo', word) for word in s_19['Lyrics']]\n",
    "s_15['list_deus'] = [re.findall('deus', word) for word in s_15['Lyrics']]\n",
    "s_19['list_deus'] = [re.findall('deus', word) for word in s_19['Lyrics']]\n",
    "\n",
    "s_15['count_paz'] = s_15['Lyrics'].str.count('paz')\n",
    "s_19['count_paz'] = s_19['Lyrics'].str.count('paz')\n",
    "s_15['count_anjo'] = s_15['Lyrics'].str.count('anjo')\n",
    "s_19['count_anjo'] = s_19['Lyrics'].str.count('anjo')\n",
    "s_15['count_deus'] = s_15['Lyrics'].str.count('deus')\n",
    "s_19['count_deus'] = s_19['Lyrics'].str.count('deus')\n",
    "\n",
    "s_15['Total_faith'] = s_15[['count_paz','count_anjo','count_deus']].sum(axis = 1)\n",
    "s_19['Total_faith'] = s_19[['count_paz','count_anjo','count_deus']].sum(axis = 1)\n",
    "\n",
    "s_19['ratio faith'] = s_19['Total_faith']/s_19['Total_words']\n",
    "s_15['ratio faith'] = s_15['Total_faith']/s_15['Total_words']"
   ]
  },
  {
   "cell_type": "code",
   "execution_count": 6,
   "metadata": {},
   "outputs": [
    {
     "data": {
      "text/plain": [
       "count_beber      5\n",
       "count_cachaça    0\n",
       "count_cerveja    0\n",
       "count_bar        5\n",
       "count_boteco     0\n",
       "dtype: int64"
      ]
     },
     "execution_count": 6,
     "metadata": {},
     "output_type": "execute_result"
    }
   ],
   "source": [
    "s_15[['count_beber','count_cachaça','count_cerveja','count_bar','count_boteco']].sum(axis = 0)"
   ]
  },
  {
   "cell_type": "code",
   "execution_count": 7,
   "metadata": {},
   "outputs": [
    {
     "data": {
      "text/plain": [
       "count_beber      39\n",
       "count_cachaça     2\n",
       "count_cerveja     2\n",
       "count_bar        11\n",
       "count_boteco      1\n",
       "dtype: int64"
      ]
     },
     "execution_count": 7,
     "metadata": {},
     "output_type": "execute_result"
    }
   ],
   "source": [
    "s_19[['count_beber','count_cachaça','count_cerveja','count_bar','count_boteco']].sum(axis = 0)"
   ]
  },
  {
   "cell_type": "code",
   "execution_count": 8,
   "metadata": {},
   "outputs": [
    {
     "data": {
      "text/plain": [
       "count_paz     10\n",
       "count_anjo    10\n",
       "count_deus    24\n",
       "dtype: int64"
      ]
     },
     "execution_count": 8,
     "metadata": {},
     "output_type": "execute_result"
    }
   ],
   "source": [
    "s_15[['count_paz','count_anjo','count_deus']].sum(axis = 0)"
   ]
  },
  {
   "cell_type": "code",
   "execution_count": 9,
   "metadata": {},
   "outputs": [
    {
     "data": {
      "text/plain": [
       "count_paz     0\n",
       "count_anjo    0\n",
       "count_deus    1\n",
       "dtype: int64"
      ]
     },
     "execution_count": 9,
     "metadata": {},
     "output_type": "execute_result"
    }
   ],
   "source": [
    "s_19[['count_paz','count_anjo','count_deus']].sum(axis = 0)"
   ]
  },
  {
   "cell_type": "code",
   "execution_count": 10,
   "metadata": {},
   "outputs": [],
   "source": [
    "#s_15[['count_cachaça','count_cerveja','count_bar','count_boteco','count_beber','Total_beer','ratio beer']].head(5)"
   ]
  },
  {
   "cell_type": "code",
   "execution_count": 11,
   "metadata": {},
   "outputs": [],
   "source": [
    "#s_19[['count_cachaça','count_cerveja','count_bar','count_boteco','count_beber','Total_beer','ratio beer']].head(5)"
   ]
  },
  {
   "cell_type": "markdown",
   "metadata": {},
   "source": [
    "## T-student test"
   ]
  },
  {
   "cell_type": "code",
   "execution_count": 12,
   "metadata": {},
   "outputs": [
    {
     "data": {
      "text/plain": [
       "Ttest_indResult(statistic=-2.578028830873034, pvalue=0.01271780507770651)"
      ]
     },
     "execution_count": 12,
     "metadata": {},
     "output_type": "execute_result"
    }
   ],
   "source": [
    "#sexual words\n",
    "ttest_ind(s_15['ratio sexual'], s_19['ratio sexual'], equal_var=False)"
   ]
  },
  {
   "cell_type": "code",
   "execution_count": 13,
   "metadata": {},
   "outputs": [
    {
     "data": {
      "text/plain": [
       "Ttest_indResult(statistic=-0.12969097899473284, pvalue=0.8972734786852761)"
      ]
     },
     "execution_count": 13,
     "metadata": {},
     "output_type": "execute_result"
    }
   ],
   "source": [
    "#suffering\n",
    "ttest_ind(s_15['ratio pain'], s_19['ratio pain'], equal_var=False)"
   ]
  },
  {
   "cell_type": "code",
   "execution_count": 14,
   "metadata": {},
   "outputs": [
    {
     "data": {
      "text/plain": [
       "Ttest_indResult(statistic=-2.2548584877573634, pvalue=0.02715367396370582)"
      ]
     },
     "execution_count": 14,
     "metadata": {},
     "output_type": "execute_result"
    }
   ],
   "source": [
    "#beer\n",
    "ttest_ind(s_15['ratio beer'], s_19['ratio beer'], equal_var=False)"
   ]
  },
  {
   "cell_type": "code",
   "execution_count": 15,
   "metadata": {},
   "outputs": [
    {
     "data": {
      "text/plain": [
       "Ttest_indResult(statistic=3.240065846136223, pvalue=0.003455826554795366)"
      ]
     },
     "execution_count": 15,
     "metadata": {},
     "output_type": "execute_result"
    }
   ],
   "source": [
    "#faith\n",
    "ttest_ind(s_15['ratio faith'], s_19['ratio faith'], equal_var=False)"
   ]
  },
  {
   "cell_type": "code",
   "execution_count": 36,
   "metadata": {},
   "outputs": [
    {
     "data": {
      "text/html": [
       "<div>\n",
       "<style scoped>\n",
       "    .dataframe tbody tr th:only-of-type {\n",
       "        vertical-align: middle;\n",
       "    }\n",
       "\n",
       "    .dataframe tbody tr th {\n",
       "        vertical-align: top;\n",
       "    }\n",
       "\n",
       "    .dataframe thead th {\n",
       "        text-align: right;\n",
       "    }\n",
       "</style>\n",
       "<table border=\"1\" class=\"dataframe\">\n",
       "  <thead>\n",
       "    <tr style=\"text-align: right;\">\n",
       "      <th></th>\n",
       "      <th>item</th>\n",
       "      <th>value</th>\n",
       "    </tr>\n",
       "  </thead>\n",
       "  <tbody>\n",
       "    <tr>\n",
       "      <th>0</th>\n",
       "      <td>(ratio) erotism</td>\n",
       "      <td>0.002049</td>\n",
       "    </tr>\n",
       "    <tr>\n",
       "      <th>1</th>\n",
       "      <td>(ratio) pain</td>\n",
       "      <td>0.023338</td>\n",
       "    </tr>\n",
       "    <tr>\n",
       "      <th>2</th>\n",
       "      <td>(ratio) alcohol consumption</td>\n",
       "      <td>0.016401</td>\n",
       "    </tr>\n",
       "    <tr>\n",
       "      <th>3</th>\n",
       "      <td>(ratio) faith</td>\n",
       "      <td>0.037783</td>\n",
       "    </tr>\n",
       "  </tbody>\n",
       "</table>\n",
       "</div>"
      ],
      "text/plain": [
       "                          item     value\n",
       "0              (ratio) erotism  0.002049\n",
       "1                 (ratio) pain  0.023338\n",
       "2  (ratio) alcohol consumption  0.016401\n",
       "3                (ratio) faith  0.037783"
      ]
     },
     "execution_count": 36,
     "metadata": {},
     "output_type": "execute_result"
    }
   ],
   "source": [
    "s_15[['ratio sexual', 'ratio pain', 'ratio beer', 'ratio faith']].sum(0)\n",
    "p_15 = pd.DataFrame({'item': ['(ratio) erotism', '(ratio) pain', '(ratio) alcohol consumption', '(ratio) faith'],\n",
    "                  'value': [0.002049, 0.023338, 0.016401, 0.037783]})\n",
    "p_15"
   ]
  },
  {
   "cell_type": "code",
   "execution_count": 37,
   "metadata": {},
   "outputs": [
    {
     "data": {
      "text/html": [
       "<div>\n",
       "<style scoped>\n",
       "    .dataframe tbody tr th:only-of-type {\n",
       "        vertical-align: middle;\n",
       "    }\n",
       "\n",
       "    .dataframe tbody tr th {\n",
       "        vertical-align: top;\n",
       "    }\n",
       "\n",
       "    .dataframe thead th {\n",
       "        text-align: right;\n",
       "    }\n",
       "</style>\n",
       "<table border=\"1\" class=\"dataframe\">\n",
       "  <thead>\n",
       "    <tr style=\"text-align: right;\">\n",
       "      <th></th>\n",
       "      <th>item</th>\n",
       "      <th>value</th>\n",
       "    </tr>\n",
       "  </thead>\n",
       "  <tbody>\n",
       "    <tr>\n",
       "      <th>0</th>\n",
       "      <td>(ratio) erotism</td>\n",
       "      <td>0.053148</td>\n",
       "    </tr>\n",
       "    <tr>\n",
       "      <th>1</th>\n",
       "      <td>(ratio) pain</td>\n",
       "      <td>0.050607</td>\n",
       "    </tr>\n",
       "    <tr>\n",
       "      <th>2</th>\n",
       "      <td>(ratio) alcohol consumption</td>\n",
       "      <td>0.086767</td>\n",
       "    </tr>\n",
       "    <tr>\n",
       "      <th>3</th>\n",
       "      <td>(ratio) faith</td>\n",
       "      <td>0.001610</td>\n",
       "    </tr>\n",
       "  </tbody>\n",
       "</table>\n",
       "</div>"
      ],
      "text/plain": [
       "                          item     value\n",
       "0              (ratio) erotism  0.053148\n",
       "1                 (ratio) pain  0.050607\n",
       "2  (ratio) alcohol consumption  0.086767\n",
       "3                (ratio) faith  0.001610"
      ]
     },
     "execution_count": 37,
     "metadata": {},
     "output_type": "execute_result"
    }
   ],
   "source": [
    "s_19[['ratio sexual', 'ratio pain', 'ratio beer', 'ratio faith']].sum(0)\n",
    "p_19 = pd.DataFrame({'item': ['(ratio) erotism', '(ratio) pain', '(ratio) alcohol consumption', '(ratio) faith'],\n",
    "                  'value': [0.053148, 0.050607, 0.086767, 0.001610]})\n",
    "p_19"
   ]
  },
  {
   "cell_type": "code",
   "execution_count": 41,
   "metadata": {},
   "outputs": [
    {
     "data": {
      "image/png": "[encoded data removed]",
      "text/plain": [
       "<Figure size 648x216 with 2 Axes>"
      ]
     },
     "metadata": {
      "needs_background": "light"
     },
     "output_type": "display_data"
    }
   ],
   "source": [
    "\n",
    "\n",
    "names_15 = list(['erotism', 'alcohol','pain',  'faith'])\n",
    "values_15 = list([0.002049, 0.016401, 0.023338,  0.037783])\n",
    "\n",
    "names_19 = list(['erotism', 'alcohol','pain',  'faith'])\n",
    "values_19 = list([0.053148, 0.086767, 0.050607,  0.001610])\n",
    "\n",
    "fig, axs = plt.subplots(1, 2, figsize=(9, 3), sharey=True)\n",
    "axs[1].bar(names_19, values_19)\n",
    "axs[0].bar(names_15, values_15)\n",
    "\n",
    "fig.suptitle('ratio of words')\n",
    "plt.savefig('ratio_of_words.png')"
   ]
  },
  {
   "cell_type": "code",
   "execution_count": null,
   "metadata": {},
   "outputs": [],
   "source": []
  }
 ],
 "metadata": {
  "kernelspec": {
   "display_name": "Python 3",
   "language": "python",
   "name": "python3"
  },
  "language_info": {
   "codemirror_mode": {
    "name": "ipython",
    "version": 3
   },
   "file_extension": ".py",
   "mimetype": "text/x-python",
   "name": "python",
   "nbconvert_exporter": "python",
   "pygments_lexer": "ipython3",
   "version": "3.7.4"
  }
 },
 "nbformat": 4,
 "nbformat_minor": 2
}
